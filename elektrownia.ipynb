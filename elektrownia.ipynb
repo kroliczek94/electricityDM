{
 "cells": [
  {
   "cell_type": "markdown",
   "metadata": {
    "collapsed": false
   },
   "source": [
    "#  Analiza produkcji prądu w panelach fotowoltaicznych - sprawozdanie"
   ]
  },
  {
   "cell_type": "markdown",
   "metadata": {},
   "source": [
    "Celem sprawozdania było zaimplementowanie najlepszego algorytmu eksploracji danych, który miał za zadanie przygotować model predykcyjny, pozwalający dowiedzieć się ile będzie produkowanego prądu w określonych momentach czasu w różnych lokalizacjach. Sprawozdanie zostało przygotowane na przedmiot - Zaawansowana Eksploracja Danych."
   ]
  },
  {
   "cell_type": "markdown",
   "metadata": {},
   "source": [
    "# Implementacja"
   ]
  },
  {
   "cell_type": "markdown",
   "metadata": {},
   "source": [
    "Pierwszym krokiem jest import bibliotek oraz plików ze zbiorami testowymi oraz treningowymi."
   ]
  },
  {
   "cell_type": "code",
   "execution_count": null,
   "metadata": {
    "collapsed": true
   },
   "outputs": [],
   "source": [
    "from sklearn.model_selection import TimeSeriesSplit\n",
    "from sklearn.model_selection import GridSearchCV\n",
    "from sklearn import linear_model\n",
    "from sklearn import ensemble\n",
    "from sklearn.preprocessing import MinMaxScaler\n",
    "\n",
    "\n",
    "import pandas as pd\n",
    "import numpy as np\n",
    "\n",
    "df = pd.read_csv(\"elektrownie.csv\")\n",
    "df_test = pd.read_csv(\"test.csv\")\n",
    "submissions = pd.read_csv(\"sample_submission.csv\")"
   ]
  },
  {
   "cell_type": "markdown",
   "metadata": {},
   "source": [
    "Kolejnym krokiem jest wyczyszczenie danych z informacji, które nie będą przydatne w predykcji."
   ]
  },
  {
   "cell_type": "code",
   "execution_count": null,
   "metadata": {
    "collapsed": true
   },
   "outputs": [],
   "source": [
    "df_filtered = df.drop(df.columns[31:48], axis=1)\n",
    "df_filtered = df_filtered.drop(df_filtered.columns[20:28], axis=1)\n",
    "df_filtered = df_filtered.drop(['id', 'idmodel', 'idbrand', 'lat', 'lon', 'ageinmonths', 'data', 'irri_pvgis_mod'], axis=1)\n",
    "\n",
    "df_filtered_test = df_test.drop(df_test.columns[31:48], axis=1)\n",
    "df_filtered_test = df_filtered_test.drop(df_filtered_test.columns[20:28], axis=1)\n",
    "df_filtered_test = df_filtered_test.drop(['id',  'idmodel', 'idbrand', 'lat', 'lon', 'ageinmonths', 'data', 'irri_pvgis_mod'], axis=1)"
   ]
  },
  {
   "cell_type": "markdown",
   "metadata": {},
   "source": [
    "W celu usunięcia nieprawidłowych danych zostaną usunięte informacje o próbkach, które mają zerowy napływ energii przy znaczącej ilości światła. W zbiorze danych jest również problem związany z tym, że od pewnego momentu po zakończeniu próbkowania, raz dziennie jest zapisywany ostatni pomiar."
   ]
  },
  {
   "cell_type": "code",
   "execution_count": null,
   "metadata": {
    "collapsed": true
   },
   "outputs": [],
   "source": [
    "df_complete = df_filtered.dropna(how='any')\n",
    "df_complete['ct'] = df_complete.groupby(['day', 'anno', 'idsito'])['ora'].transform('count')\n",
    "df_cleaned = df_complete[df_complete['ct'] == 19]\n",
    "df_cleaned = df_cleaned.drop(df_cleaned[(df_cleaned.kwh == 0) & (df_cleaned.irradiamento > 0.015)].index)"
   ]
  },
  {
   "cell_type": "markdown",
   "metadata": {},
   "source": [
    "Podział na zbiory treningowy i testowy, ostateczny wybór parametrów, które są nieprzydatne podczas budowania modelu."
   ]
  },
  {
   "cell_type": "code",
   "execution_count": null,
   "metadata": {
    "collapsed": true
   },
   "outputs": [],
   "source": [
    "X = df_cleaned.drop(['kwh', 'ct'], axis=1).drop(['idsito', 'anno', 'day', 'pressure'], axis=1)\n",
    "y = df_cleaned.kwh\n",
    "X_test = df_filtered_test.drop(['idsito', 'anno', 'day', 'pressure'], axis=1)\n",
    "# print(X_test)"
   ]
  },
  {
   "cell_type": "markdown",
   "metadata": {},
   "source": [
    "Korzystamy z regresora - GradientBoostingRegressor, aby znaleźć optymalne parametry posłużę się metodą GridSearchCV, która znajdzie optymalne parametry."
   ]
  },
  {
   "cell_type": "code",
   "execution_count": null,
   "metadata": {
    "collapsed": true
   },
   "outputs": [],
   "source": [
    "param_grid = {'learning_rate': [0.1, 0.05, 0.02, 0.01],\n",
    "                  'max_depth': [6, 8],\n",
    "                  'min_samples_leaf': [ 9, 17, 29],\n",
    "                  'max_features': [1.0, 0.3, 0.1] ## not possible in our example (only 1 \n",
    "                  }"
   ]
  },
  {
   "cell_type": "markdown",
   "metadata": {},
   "source": [
    "W celu zwiększenia poprawności klasyfikatora warto jest znormalizować dane."
   ]
  },
  {
   "cell_type": "code",
   "execution_count": null,
   "metadata": {
    "collapsed": true
   },
   "outputs": [],
   "source": [
    "min_max=MinMaxScaler()\n",
    "\n",
    "X_train = min_max.fit_transform(X)\n",
    "X_test = min_max.fit_transform(X_test)"
   ]
  },
  {
   "cell_type": "markdown",
   "metadata": {},
   "source": [
    "Walidacji modelu będę dokonywał korzystając z walidacji krzyżowej. W celu zapewnienia najlepszej jakości warto jest skorzystać z cross-walidacji opartej na szeregach czasowych, a nie na losowym doborze elementów."
   ]
  },
  {
   "cell_type": "code",
   "execution_count": null,
   "metadata": {
    "collapsed": true
   },
   "outputs": [],
   "source": [
    "tscv = TimeSeriesSplit(n_splits=3)\n",
    "my_cv = tscv.split(X_train)"
   ]
  },
  {
   "cell_type": "markdown",
   "metadata": {},
   "source": [
    "Po przygotowaniu danych można ruszyć z budowaniem modelu. Wykorzystamy w tym celu GradientBoostingRegresor - jako parametr przyjmuje liczbę estymatorów które zostaną zbudowane w ramach treningu. Metodą GridSearchCV będziemy szukać najlepszego zbioru parametrów spośród wcześniej utworzonej tablicy param_grid. Verbose będzie nam wysyłać komunikaty związane z postępem poszukiwań, a n_jobs wskazuje ile wątków ma obsłużyć zadanie."
   ]
  },
  {
   "cell_type": "code",
   "execution_count": null,
   "metadata": {
    "collapsed": true
   },
   "outputs": [],
   "source": [
    "est = ensemble.GradientBoostingRegressor(n_estimators=250)\n",
    "gs_cv = GridSearchCV(est, param_grid, cv=my_cv, verbose=2, n_jobs=2).fit(X_train, y_train)"
   ]
  },
  {
   "cell_type": "markdown",
   "metadata": {},
   "source": [
    "W celu zweryfikowania poprawności otrzymanego modelu możemy sprawdzić ich skuteczność, przy pomocy parametrów best_params_, best_estimator_, best_score_"
   ]
  },
  {
   "cell_type": "code",
   "execution_count": null,
   "metadata": {
    "collapsed": true
   },
   "outputs": [],
   "source": [
    "best_params = gs_cv.best_params_\n",
    "model = gs_cv.best_estimator_\n",
    "score = gs_cv.best_score_\n",
    "# for item in gs_cv.grid_scores_:\n",
    "    # print (\"\\t%s %s %s\" % ('\\tGRIDSCORES\\t',  \"R\" , item))\n",
    "# print ('%s\\tHP\\t%s\\t%f' % (\"R\" , str(best_params) ,abs(score)))"
   ]
  },
  {
   "cell_type": "markdown",
   "metadata": {},
   "source": [
    "Dokonujemy predykcji na podstawie danych testowych."
   ]
  },
  {
   "cell_type": "code",
   "execution_count": null,
   "metadata": {
    "collapsed": true
   },
   "outputs": [],
   "source": [
    "y_pred = gs_cv.predict(X_test)"
   ]
  },
  {
   "cell_type": "markdown",
   "metadata": {},
   "source": [
    "Otrzymane wyniki mają czasem ujemne wartości, aby to skorygować, stworzona została funkcja, która zeruje wartości ujemne."
   ]
  },
  {
   "cell_type": "code",
   "execution_count": null,
   "metadata": {
    "collapsed": true
   },
   "outputs": [],
   "source": [
    "def val(i):\n",
    "    if (i >= 0): return i\n",
    "    else: return 0"
   ]
  },
  {
   "cell_type": "markdown",
   "metadata": {},
   "source": [
    "Zapisujemy otrzymane wyniki do pliku, który może zostać umieszczony na platformie kaggle."
   ]
  },
  {
   "cell_type": "code",
   "execution_count": null,
   "metadata": {
    "collapsed": true
   },
   "outputs": [],
   "source": [
    "y_pred = [ val(x) for x in y_pred ]\n",
    "submissions['kwh'] = y_pred\n",
    "\n",
    "# print(submissions)\n",
    "submissions.to_csv('submission14.csv', index=False)"
   ]
  }
 ],
 "metadata": {
  "kernelspec": {
   "display_name": "Python 3",
   "language": "python",
   "name": "python3"
  },
  "language_info": {
   "codemirror_mode": {
    "name": "ipython",
    "version": 3
   },
   "file_extension": ".py",
   "mimetype": "text/x-python",
   "name": "python",
   "nbconvert_exporter": "python",
   "pygments_lexer": "ipython3",
   "version": "3.6.0"
  }
 },
 "nbformat": 4,
 "nbformat_minor": 0
}
